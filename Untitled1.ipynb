{
 "cells": [
  {
   "cell_type": "code",
   "execution_count": 1,
   "metadata": {
    "collapsed": true
   },
   "outputs": [],
   "source": [
    "sss = '''features_ground:SelectorCV\n",
    "\n",
    "**** WER = 0.6685393258426966\n",
    "spend_time:20.031581163406372\n",
    "features_ground:SelectorBIC\n",
    "\n",
    "**** WER = 0.5449438202247191\n",
    "spend_time:72.14614081382751\n",
    "features_ground:SelectorDIC\n",
    "\n",
    "**** WER = 0.5617977528089888\n",
    "spend_time:219.23896598815918\n",
    "features_norm:SelectorCV\n",
    "\n",
    "**** WER = 0.6235955056179775\n",
    "spend_time:21.45562171936035\n",
    "features_norm:SelectorBIC\n",
    "\n",
    "**** WER = 0.6123595505617978\n",
    "spend_time:95.49173712730408\n",
    "features_norm:SelectorDIC\n",
    "\n",
    "**** WER = 0.5955056179775281\n",
    "spend_time:295.60215401649475\n",
    "features_polar:SelectorCV\n",
    "\n",
    "**** WER = 0.6179775280898876\n",
    "spend_time:23.332514762878418\n",
    "features_polar:SelectorBIC\n",
    "\n",
    "**** WER = 0.5449438202247191\n",
    "spend_time:103.57352805137634\n",
    "features_polar:SelectorDIC\n",
    "\n",
    "**** WER = 0.5280898876404494\n",
    "spend_time:281.5178151130676\n",
    "features_delta:SelectorCV\n",
    "\n",
    "**** WER = 0.6404494382022472\n",
    "spend_time:23.77271294593811\n",
    "features_delta:SelectorBIC\n",
    "\n",
    "**** WER = 0.6235955056179775\n",
    "spend_time:94.98226857185364\n",
    "features_delta:SelectorDIC\n",
    "\n",
    "**** WER = 0.6179775280898876\n",
    "spend_time:270.4826033115387\n",
    "features_custom:SelectorCV\n",
    "\n",
    "**** WER = 0.6629213483146067\n",
    "spend_time:22.142391204833984\n",
    "features_custom:SelectorBIC\n",
    "\n",
    "**** WER = 0.5842696629213483\n",
    "spend_time:79.60850524902344\n",
    "features_custom:SelectorDIC\n",
    "\n",
    "**** WER = 0.550561797752809\n",
    "spend_time:244.23631143569946'''"
   ]
  },
  {
   "cell_type": "code",
   "execution_count": 5,
   "metadata": {
    "collapsed": false
   },
   "outputs": [],
   "source": [
    "WERLS = []\n",
    "for s in sss.split('WER = ')[1:]:\n",
    "    wer = s.split('\\n')[0]\n",
    "    WERLS.append(wer)"
   ]
  },
  {
   "cell_type": "code",
   "execution_count": 7,
   "metadata": {
    "collapsed": false
   },
   "outputs": [],
   "source": [
    "features = ['features_ground', 'features_norm', 'features_polar', 'features_delta', 'features_custom']"
   ]
  },
  {
   "cell_type": "code",
   "execution_count": 8,
   "metadata": {
    "collapsed": true
   },
   "outputs": [],
   "source": [
    "Selectors = ['SelectorCV', 'SelectorBIC', 'SelectorDIC']"
   ]
  },
  {
   "cell_type": "code",
   "execution_count": 9,
   "metadata": {
    "collapsed": false
   },
   "outputs": [
    {
     "name": "stdout",
     "output_type": "stream",
     "text": [
      "|features_ground|0.6685393258426966|0.5449438202247191|0.5617977528089888|\n",
      "|features_norm|0.6235955056179775|0.6123595505617978|0.5955056179775281|\n",
      "|features_polar|0.6179775280898876|0.5449438202247191|0.5280898876404494|\n",
      "|features_delta|0.6404494382022472|0.6235955056179775|0.6179775280898876|\n",
      "|features_custom|0.6629213483146067|0.5842696629213483|0.550561797752809|\n"
     ]
    }
   ],
   "source": [
    "for i,fe in enumerate(features):\n",
    "    print('|{}|{}|{}|{}|'.format(fe, WERLS[3*i], WERLS[3*i + 1], WERLS[3*i + 2]))   "
   ]
  },
  {
   "cell_type": "code",
   "execution_count": 10,
   "metadata": {
    "collapsed": true
   },
   "outputs": [],
   "source": [
    "sptimels = []\n",
    "for s in sss.split('spend_time:')[1:]:\n",
    "    sti = s.split('\\n')[0]\n",
    "    sptimels.append(sti)"
   ]
  },
  {
   "cell_type": "code",
   "execution_count": 11,
   "metadata": {
    "collapsed": false
   },
   "outputs": [
    {
     "name": "stdout",
     "output_type": "stream",
     "text": [
      "|features_ground|20.031581163406372|72.14614081382751|219.23896598815918|\n",
      "|features_norm|21.45562171936035|95.49173712730408|295.60215401649475|\n",
      "|features_polar|23.332514762878418|103.57352805137634|281.5178151130676|\n",
      "|features_delta|23.77271294593811|94.98226857185364|270.4826033115387|\n",
      "|features_custom|22.142391204833984|79.60850524902344|244.23631143569946|\n"
     ]
    }
   ],
   "source": [
    "for i,fe in enumerate(features):\n",
    "    print('|{}|{}|{}|{}|'.format(fe, sptimels[3*i], sptimels[3*i + 1], sptimels[3*i + 2])) "
   ]
  },
  {
   "cell_type": "code",
   "execution_count": null,
   "metadata": {
    "collapsed": true
   },
   "outputs": [],
   "source": []
  }
 ],
 "metadata": {
  "kernelspec": {
   "display_name": "Python 3",
   "language": "python",
   "name": "python3"
  },
  "language_info": {
   "codemirror_mode": {
    "name": "ipython",
    "version": 3
   },
   "file_extension": ".py",
   "mimetype": "text/x-python",
   "name": "python",
   "nbconvert_exporter": "python",
   "pygments_lexer": "ipython3",
   "version": "3.6.0"
  }
 },
 "nbformat": 4,
 "nbformat_minor": 2
}
